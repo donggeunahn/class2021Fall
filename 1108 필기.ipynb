{
  "nbformat": 4,
  "nbformat_minor": 0,
  "metadata": {
    "colab": {
      "name": "Untitled1.ipynb",
      "provenance": [],
      "authorship_tag": "ABX9TyMX9MHaqaZnX3TJ/4qkyeK4",
      "include_colab_link": true
    },
    "kernelspec": {
      "name": "python3",
      "display_name": "Python 3"
    },
    "language_info": {
      "name": "python"
    }
  },
  "cells": [
    {
      "cell_type": "markdown",
      "metadata": {
        "id": "view-in-github",
        "colab_type": "text"
      },
      "source": [
        "<a href=\"https://colab.research.google.com/github/donggeunahn/class2021fall/blob/main/1108%20%ED%95%84%EA%B8%B0.ipynb\" target=\"_parent\"><img src=\"https://colab.research.google.com/assets/colab-badge.svg\" alt=\"Open In Colab\"/></a>"
      ]
    },
    {
      "cell_type": "markdown",
      "metadata": {
        "id": "b3vVmBvVZAqJ"
      },
      "source": [
        ""
      ]
    },
    {
      "cell_type": "code",
      "metadata": {
        "colab": {
          "base_uri": "https://localhost:8080/"
        },
        "id": "YZ4Z6iHYYQno",
        "outputId": "c6362933-67f8-4f24-d5bf-84c2218bb648"
      },
      "source": [
        "a=1 #int\n",
        "b=1.1 #float\n",
        "c='hello' #string\n",
        "d=[1,'abc',2.1] #list\n",
        "e={'apple':'red fruit', 'banana':'yellow fruit'} #dictionary\n",
        "print(a) #print\n",
        "print(type(e)) #type print\n",
        "Print(c[0:2]) #1번째 2번째꺼\n",
        "print(e['apple']) #dict의 경우 표제어를 넣어서 출력"
      ],
      "execution_count": 5,
      "outputs": [
        {
          "output_type": "stream",
          "name": "stdout",
          "text": [
            "<class 'dict'>\n",
            "red fruit\n"
          ]
        }
      ]
    }
  ]
}