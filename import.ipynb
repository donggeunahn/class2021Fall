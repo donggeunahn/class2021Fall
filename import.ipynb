{
  "nbformat": 4,
  "nbformat_minor": 0,
  "metadata": {
    "colab": {
      "name": "import.ipynb",
      "provenance": [],
      "include_colab_link": true
    },
    "kernelspec": {
      "name": "python3",
      "display_name": "Python 3"
    },
    "language_info": {
      "name": "python"
    }
  },
  "cells": [
    {
      "cell_type": "markdown",
      "metadata": {
        "id": "view-in-github",
        "colab_type": "text"
      },
      "source": [
        "<a href=\"https://colab.research.google.com/github/donggeunahn/class2021fall/blob/main/import.ipynb\" target=\"_parent\"><img src=\"https://colab.research.google.com/assets/colab-badge.svg\" alt=\"Open In Colab\"/></a>"
      ]
    },
    {
      "cell_type": "code",
      "metadata": {
        "id": "q6s4Abq1i2SP"
      },
      "source": [
        ""
      ],
      "execution_count": null,
      "outputs": []
    },
    {
      "cell_type": "code",
      "metadata": {
        "id": "JXicrkYOzPRo",
        "outputId": "1c433030-24b7-4501-8b9b-d7fcd6cb3768",
        "colab": {
          "base_uri": "https://localhost:8080/"
        }
      },
      "source": [
        "#남들이 만든 function을 불러올때는 import, from을 사용\n",
        "import numpy as np #numpy라고 쓰기 너무 기니깐 as 써서 np라고 쓸 수있다.\n",
        "n = np.random.randn(1000) #numpy의 random 폴더 밑에 randn fuction을 쓰겠다-->radn는 갯수만큼의 random number를 만든다\n",
        "print(n)"
      ],
      "execution_count": 13,
      "outputs": [
        {
          "output_type": "stream",
          "name": "stdout",
          "text": [
            "[ 1.66360191e+00  4.31877184e-01 -5.02492612e-01  9.30826098e-01\n",
            "  1.65703260e+00  3.03486174e+00  1.37954906e+00  8.30011130e-01\n",
            " -1.61184601e-01 -4.11881146e-01 -9.54627497e-01 -2.45646960e+00\n",
            " -1.40376521e+00  5.35139257e-01  6.45161821e-01  8.82519238e-01\n",
            "  8.46205263e-01 -1.26343487e+00  1.61935533e+00  9.79077058e-02\n",
            "  5.36027235e-01 -1.24767301e+00  8.80290145e-01 -9.13314963e-01\n",
            " -3.84572288e-01  1.36432860e+00  1.68422072e-01  8.00116387e-02\n",
            "  8.52764135e-01  2.55446525e-01 -7.35558633e-01 -5.76843197e-01\n",
            " -8.69968906e-01 -7.96159006e-01 -6.06174899e-02 -1.63659671e-01\n",
            "  8.22485360e-01 -4.85956044e-01  1.79392079e-01  8.63736356e-02\n",
            "  1.73166482e+00  7.24066236e-01 -8.59224888e-01 -1.52291629e+00\n",
            "  1.40562395e+00  8.49829961e-01  1.01989442e+00 -3.25844283e-01\n",
            " -5.98338426e-01 -7.69780373e-01 -6.91599745e-01  9.68575506e-01\n",
            " -2.35376410e+00  6.51838673e-01 -3.05284117e-01 -1.54647453e+00\n",
            " -7.19658715e-01 -9.33774245e-01 -7.17197161e-01  1.47534448e+00\n",
            " -1.57965375e-01 -3.49814197e-02 -2.94667090e-01  8.56301193e-01\n",
            "  2.24778777e+00 -1.72956474e-01  2.08186960e+00 -1.42402066e+00\n",
            "  5.78147001e-01 -5.38371402e-01 -1.08993450e-01 -6.12397970e-01\n",
            "  1.12846298e+00 -9.44792830e-01  8.25017726e-01  2.96090428e-01\n",
            " -1.16615848e+00  4.29014946e-01 -4.70708849e-01  4.62191027e-01\n",
            "  9.61882660e-01  5.27091742e-01  7.77197965e-01  4.84637739e-01\n",
            "  9.99925167e-01  3.35194224e-01  6.98304727e-01 -1.33346887e+00\n",
            "  7.62168373e-01  9.08400289e-01  1.64482752e+00  2.70657776e-01\n",
            " -6.47921516e-01 -4.22854925e-01  2.53450365e-01 -5.08211337e-01\n",
            " -5.28984341e-01 -2.02035141e+00  5.52473062e-01 -9.39101300e-01\n",
            " -7.18861860e-01 -8.09414893e-02 -1.32810572e+00 -5.32983741e-03\n",
            " -8.95546820e-01  1.17005346e-01  1.78098539e-01  7.14526718e-01\n",
            "  1.54790831e+00 -1.03537599e+00  4.50833438e-01 -2.01659701e+00\n",
            "  3.56445567e-01  1.04360827e+00 -8.21590272e-01 -1.08079894e+00\n",
            " -1.09972007e+00  2.56502185e+00 -1.21151461e-01  2.40283435e-01\n",
            "  2.12673396e+00  6.17055416e-01 -2.37408952e-01 -1.15414448e-02\n",
            "  8.06212300e-01  8.27580168e-01 -4.75121126e-01 -5.01624413e-01\n",
            " -4.68571061e-01  4.22624164e-01  2.18074492e-01  1.37208564e+00\n",
            "  1.06175176e+00  1.83362142e+00  3.40258409e-01 -1.70617171e+00\n",
            "  7.53080923e-01 -3.23048546e-01  4.26125973e-01 -1.40115928e+00\n",
            "  2.17850154e+00  1.46442592e+00  2.30902488e-01 -6.12965588e-01\n",
            " -1.17825392e-01  3.06291975e-01  1.25897259e+00  5.78787135e-01\n",
            "  5.12733533e-01  7.43062684e-01 -1.69920342e-01 -1.60119578e-01\n",
            " -4.44057169e-01 -9.15661277e-01  6.93252483e-01 -1.13821866e+00\n",
            "  4.45946697e-01  1.16049319e+00 -1.65118123e+00  2.35158278e-02\n",
            "  1.51328988e+00 -1.23948809e+00  2.21029882e+00 -4.46975743e-02\n",
            "  3.05244044e+00 -7.94251725e-01  3.55188180e-01 -2.17895377e-01\n",
            "  3.57809909e-02  3.55890092e-01 -5.77547653e-01 -3.66530629e-01\n",
            "  5.97691614e-01 -1.80836341e-01  8.15986018e-01 -1.00644546e+00\n",
            "  8.45875580e-01 -3.03911481e-01 -5.43080713e-01  1.89661933e-01\n",
            " -9.01266348e-01  1.75127287e+00 -2.40541893e-01  1.69250795e-01\n",
            " -7.03055643e-01 -5.64170556e-01  5.68468329e-01  1.68054741e-01\n",
            " -4.47275917e-01  1.13461629e+00 -4.51617641e-01 -1.04723935e+00\n",
            "  6.45606232e-01 -1.34210712e-01  7.88475328e-01 -1.00582502e+00\n",
            " -1.19928338e+00 -4.74406256e-01 -6.83941791e-01 -1.27907682e+00\n",
            "  5.08389567e-01  4.11096447e-01  1.57934454e+00  1.01293179e+00\n",
            "  6.98797973e-01  1.18226665e+00  6.65368911e-01  7.39773286e-01\n",
            " -1.37748249e-01  2.06012522e-01  1.11433652e+00 -2.93167510e-01\n",
            "  1.18263034e-01  3.59465731e-01  2.86555423e-01  2.74308140e-01\n",
            "  1.23567951e+00 -5.26926941e-01 -1.58707152e+00  5.65885700e-01\n",
            " -2.41114833e+00 -7.30891835e-01 -1.06022847e+00  6.43144971e-02\n",
            " -8.13049561e-01 -2.39560399e-01  5.63065081e-01  1.77675042e-01\n",
            "  3.50018537e-01  4.30470891e-01 -1.44763085e-01  5.13043188e-01\n",
            "  1.01332889e+00 -1.08745935e-02  6.33059691e-01  5.82564576e-01\n",
            "  1.04995841e-01  4.59061586e-01 -3.16701181e-01  5.34468062e-01\n",
            "  8.18531607e-01  7.00178302e-02  1.92616453e+00 -2.99923580e-01\n",
            "  3.15661371e-02 -1.00193984e+00  6.36503013e-01  9.67804316e-01\n",
            " -1.55645603e+00  7.67343742e-01 -3.65429655e-01  4.49557924e-01\n",
            "  2.61058662e-01  3.79949876e-01 -1.18097171e+00 -2.21530724e-02\n",
            "  4.45686797e-01  1.10741076e+00  3.32801527e-01  9.85875585e-01\n",
            "  1.02374724e+00  1.62705682e+00 -2.74114832e-01  1.44730439e+00\n",
            " -1.19911466e+00  3.26968412e-01  3.24131322e-01 -1.74698856e+00\n",
            "  1.06059644e+00  2.45730617e-01  4.03750964e-01 -1.58967449e-01\n",
            " -3.85341433e-01 -6.51879078e-01 -1.08514219e-01 -8.80324155e-01\n",
            "  1.75396146e+00 -1.46939918e-01  9.20720025e-01  3.28562359e-01\n",
            " -2.88948099e-01  7.30624647e-01 -6.68563268e-01 -1.91082650e-01\n",
            "  1.89175344e-01 -1.52814525e+00  9.70061251e-01 -8.90947237e-01\n",
            " -2.55948459e-01  1.34804340e+00  1.57512948e+00 -8.13767600e-01\n",
            "  5.75284369e-01  1.28252323e+00 -3.94803792e-01  6.04137939e-01\n",
            "  3.43011491e-01 -2.42165228e-01 -2.36281882e-01 -3.44793592e+00\n",
            " -1.23066282e+00 -7.82355101e-01  2.40984360e-01  5.19280052e-01\n",
            " -1.62611150e+00  6.68597385e-02  5.94333178e-01  1.85873434e-01\n",
            " -1.36006044e+00 -5.42241857e-02 -3.40976585e-01 -4.18649553e-01\n",
            " -3.02674175e-01 -1.00484180e+00 -1.99034779e-01  5.49028974e-01\n",
            "  7.46684125e-01 -2.38531090e-02 -1.57137291e+00 -2.39593777e-01\n",
            " -8.82616237e-04  5.42063824e-01 -3.64372492e-01  2.30122148e+00\n",
            "  7.73337894e-01 -4.76597341e-01 -1.29930601e+00 -1.67403820e-01\n",
            "  4.53407530e-01  6.87251036e-01  4.62759487e-01 -4.78330393e-01\n",
            " -8.28057752e-01 -6.28179576e-01 -2.02751446e+00  1.80055877e+00\n",
            "  5.50562842e-01  2.06701912e+00 -6.40349609e-01  4.38112272e-01\n",
            " -3.52077444e-01 -3.21917178e-01  8.99219026e-01  1.66905962e+00\n",
            " -1.05494584e+00 -4.26152316e-01  1.14655913e+00  1.18215357e+00\n",
            " -1.47157037e+00 -1.90313099e-01 -7.92673210e-01 -1.18287802e+00\n",
            " -8.98633164e-01  1.38210707e+00  4.07760151e-02 -7.26009673e-01\n",
            " -9.56392557e-01  2.03945910e+00  2.50790488e+00  2.84970747e+00\n",
            "  3.82808206e-01 -2.04611909e-01  5.26029084e-01  2.38163174e-01\n",
            "  1.02792977e+00  1.13059545e+00 -3.97499343e-01 -7.47265613e-02\n",
            "  7.30429986e-02 -5.26205514e-01 -7.35099282e-01 -1.54988236e-02\n",
            "  6.83684224e-01 -1.00328676e+00  1.34887247e+00 -2.00260304e-01\n",
            "  2.22299472e+00 -2.62823851e+00 -5.40682765e-01 -2.56925774e-01\n",
            "  1.35446121e+00 -1.71997384e-02  1.29995547e-01  7.08378456e-01\n",
            "  2.19979488e-01  6.17786395e-01 -5.18694328e-01  5.06752332e-01\n",
            " -4.41070603e-01 -1.02422790e+00  9.19926167e-02 -6.51719259e-01\n",
            " -3.88527808e-01  1.09694513e+00 -1.24533192e+00 -8.92477428e-01\n",
            " -7.30282118e-01  5.33042798e-01  2.43487016e+00 -8.93006758e-02\n",
            " -4.79257091e-01  9.48809363e-01 -1.45032963e+00 -2.76503643e-01\n",
            "  1.99465936e-01  1.78552319e+00  2.22880136e+00  5.54991622e-01\n",
            "  5.31863488e-01  5.59859612e-01 -1.52225812e+00  1.79167686e+00\n",
            " -3.50583894e-01 -2.45819670e-02 -1.10094236e-01  4.01539649e-01\n",
            "  7.91886508e-01 -1.50491872e+00  1.50723258e-01  5.12028463e-01\n",
            " -1.17236620e+00  5.12933084e-01 -1.08935307e+00 -7.82880684e-01\n",
            " -6.70094635e-01 -1.40411502e+00  8.90014763e-01 -1.15147982e-01\n",
            " -1.32829669e+00 -2.61505734e-01  1.84566412e-02  1.77736722e+00\n",
            " -1.64901853e+00  3.23993362e-01 -1.74134079e+00 -1.04473517e+00\n",
            "  2.61184162e-01 -7.92814053e-02 -9.24888784e-01 -6.11714220e-01\n",
            " -1.08882692e-01 -3.01585512e+00 -5.78212043e-01 -5.42495841e-01\n",
            "  3.92362616e-01 -2.03175906e-01 -2.32750807e-01 -4.85505744e-01\n",
            "  2.53108865e-01  8.46560678e-01  5.88985736e-01  2.35579013e-01\n",
            "  8.56442670e-01 -5.56489130e-01  7.91793654e-01  7.25437313e-01\n",
            "  1.75425457e+00  1.27003090e+00 -2.33458271e+00  4.22522743e-01\n",
            "  5.05496465e-01  1.63898577e+00  1.09686846e+00  9.07587815e-01\n",
            " -3.33365911e-01  4.83866982e-01  1.91447112e-01 -2.14482859e+00\n",
            "  2.07407378e+00  1.43779404e+00 -1.15841564e+00  5.07028613e-02\n",
            "  8.37382726e-01  8.70729262e-01 -8.44112119e-01 -2.10440992e+00\n",
            "  7.74494989e-03 -5.10827638e-01  3.46880639e+00 -1.41868156e+00\n",
            "  5.34999260e-03  3.55593213e-02  1.08078064e+00  3.06355418e-01\n",
            "  3.15444111e-01  1.00760266e+00 -1.54775554e+00  8.40964076e-01\n",
            "  7.58252372e-02 -2.98497563e+00 -1.77355875e-01  8.78108227e-01\n",
            " -6.93501239e-01  1.01754197e+00  2.00383551e-01 -2.62129375e-01\n",
            "  1.68090861e+00 -3.18901428e+00 -2.30050479e-01  2.74213310e-01\n",
            " -1.02379332e+00 -7.25468731e-01 -2.24019807e-01 -1.49982021e+00\n",
            " -6.37993071e-01 -5.09253916e-01 -8.91067379e-01  2.57884080e+00\n",
            "  1.14038048e+00  1.15608795e+00  6.13469765e-01 -9.18191678e-01\n",
            "  3.23652229e-01 -1.23854068e+00  1.40121048e-01  9.02550907e-01\n",
            "  1.16822950e+00 -2.01178405e+00 -1.64657253e+00  1.20555094e+00\n",
            " -1.39360637e-01 -5.89302045e-01  2.37521312e-02  8.12485361e-01\n",
            " -8.04160017e-01  1.12936168e+00  8.80120567e-01  5.68379478e-01\n",
            " -1.15013116e+00  7.41613899e-01  2.03947970e+00  1.47228943e+00\n",
            "  6.24725246e-02  1.47753842e+00  1.79694681e+00 -5.05780292e-01\n",
            "  6.25855674e-01  3.05285180e-01  2.27377456e-02  2.44401637e+00\n",
            "  1.56719748e+00  1.22893220e+00 -1.02786436e+00 -1.23507930e+00\n",
            " -7.16856617e-01 -5.31797135e-01 -1.56302682e+00 -1.79016362e-01\n",
            "  1.52117697e+00  1.12357510e+00  1.33121721e+00 -5.02394397e-02\n",
            "  4.68730241e-01 -1.88251210e+00  5.08652388e-01  2.07368202e-01\n",
            "  1.02774986e-01  1.31303083e+00  9.16658424e-01 -9.87704397e-01\n",
            "  5.54658498e-01  4.74166930e-01 -6.61487149e-01 -1.53318465e+00\n",
            "  2.17020930e+00  6.15035698e-01 -9.74465319e-01 -1.84783125e+00\n",
            "  2.84659039e+00 -2.99064229e-01  2.25960167e+00 -1.25307007e+00\n",
            "  7.10135209e-01 -2.31059424e+00 -3.28349676e-01  1.36303440e+00\n",
            "  2.78280459e-01  9.05682468e-01 -5.31646325e-01 -7.23577899e-01\n",
            "  1.06420224e+00 -2.29227033e-03  1.68910688e-01 -3.71555970e-01\n",
            "  5.73984725e-01 -1.78449883e+00  1.31655181e+00 -2.20216858e-01\n",
            "  1.94462486e-01  1.79215141e-01 -7.56592168e-02 -1.99719445e+00\n",
            " -2.19140970e-01 -3.14171001e+00  2.40733115e-01  1.22294625e+00\n",
            "  3.62611194e-01  1.89878117e+00  4.16436632e-01  3.33389267e-01\n",
            " -6.18733145e-01  3.45027691e-01 -1.43166007e+00 -8.29012820e-01\n",
            " -1.85695082e+00 -3.14803814e-02  6.44933426e-01  1.43952409e+00\n",
            "  5.41517382e-01  1.94581979e+00  2.11508988e+00  1.31017189e+00\n",
            "  1.65928679e-02  7.80873499e-01 -1.92569849e+00 -2.77254419e-01\n",
            "  1.13294210e-01 -9.85324651e-01 -5.42043682e-01  9.68899120e-01\n",
            " -3.94023229e-01  1.43766216e+00 -1.21476048e+00  1.31236004e+00\n",
            "  1.63551566e+00  9.49345395e-01 -1.42482365e+00 -3.65902848e-01\n",
            " -7.60441396e-01 -9.00373143e-01 -1.40481240e-01  4.96631624e-01\n",
            " -1.12155015e+00 -1.53121219e+00 -4.52454299e-01  4.52804672e-01\n",
            "  1.56166785e-01  1.54570135e+00  9.28371316e-01 -1.68910030e+00\n",
            " -7.99969847e-01  1.10041522e-02  1.27016946e+00  1.04159386e+00\n",
            "  8.06971694e-01  1.13855850e+00  1.77288184e+00  1.21495967e+00\n",
            "  8.87672882e-02 -6.50153640e-01 -5.63383833e-01 -1.09546241e+00\n",
            "  7.93259607e-03 -1.09927201e+00  2.37873624e-01 -2.46986726e-01\n",
            "  5.85600350e-01 -1.76908213e+00  1.49645511e-01  1.92485400e-02\n",
            "  3.29973621e-01 -2.01660151e+00  7.49082508e-03 -1.07848398e+00\n",
            "  4.29088711e-01 -4.90910594e-01  2.08785556e-01 -1.07086978e+00\n",
            "  1.51151264e+00  4.20224067e-02 -8.26306827e-01 -1.97125187e-01\n",
            " -1.26663657e+00  7.72694524e-01  1.76182747e-01  2.31106656e+00\n",
            " -2.72149795e-01 -1.82210618e+00  1.01610799e+00 -2.07292204e+00\n",
            "  2.12509217e-01  1.19319254e+00 -1.47215417e+00  9.55496986e-01\n",
            "  5.74094142e-02  4.76901081e-01 -1.34461157e+00 -5.90140596e-01\n",
            " -1.74564510e+00  9.32015370e-01  1.10088663e+00 -1.43931057e+00\n",
            "  5.13964865e-01 -1.10656874e+00 -1.23185181e+00 -1.53235196e+00\n",
            "  1.42034588e-01 -5.05259698e-01  5.73902952e-01 -1.01179127e+00\n",
            "  9.82917908e-01  6.31355441e-01 -1.43890109e+00  3.04501877e-01\n",
            "  1.21049175e-01 -1.09639558e+00 -1.02433528e+00 -2.68958038e-01\n",
            "  1.57326011e+00 -1.22416715e+00 -3.97502971e-01  5.54277537e-01\n",
            "  6.12065116e-01  5.63736090e-01 -1.16944659e+00  1.35090233e+00\n",
            " -5.14701805e-01 -2.28250501e-01  2.09678551e+00 -1.81529457e+00\n",
            "  1.22902598e+00 -2.59930921e-01 -9.67073936e-01 -4.75848840e-01\n",
            "  1.43054886e+00 -9.13914462e-02 -1.10442221e+00  7.07587490e-01\n",
            " -7.68280844e-02 -1.36178087e+00  2.07312157e+00  3.61763374e-01\n",
            " -4.10455013e-01  4.29771231e-01 -9.63148374e-01  1.02412682e+00\n",
            " -1.03922239e+00 -1.05503989e+00  1.33977770e+00 -3.53913110e-01\n",
            " -1.26358452e+00  5.22203866e-01  8.64402103e-01 -6.47571286e-01\n",
            " -9.31451010e-01 -3.02984763e-01  3.82341337e-01  3.90841382e-01\n",
            "  1.29459919e+00  1.47487088e+00  1.27629213e+00  2.20338335e+00\n",
            "  1.06475346e+00 -1.50898760e+00  2.37521694e-01  9.23212603e-01\n",
            " -1.09118493e-01  1.68719852e-01  1.74812734e+00 -4.81411438e-01\n",
            " -9.20958989e-01 -6.57122221e-01 -5.96017533e-01  1.25890969e+00\n",
            "  7.29531125e-01 -9.24720455e-01  9.01193899e-01  9.93934493e-01\n",
            " -3.20949931e-01 -7.37341205e-01 -5.15559063e-01  9.43740061e-01\n",
            "  9.87336165e-01 -8.93437256e-01  5.42516485e-01 -6.57443999e-01\n",
            "  3.74401709e-02  5.24385757e-02  1.65620501e-01 -1.40732629e+00\n",
            "  5.78742220e-01 -7.05478766e-02  2.19641137e+00  5.38929272e-02\n",
            " -1.49074494e+00  1.31223805e+00 -5.21246904e-02 -5.33928385e-01\n",
            " -9.80752190e-01 -1.37218685e+00 -1.00629574e+00  1.93359344e+00\n",
            " -2.15170837e-02  4.17613885e-01  4.32578023e-01 -4.97433360e-01\n",
            "  3.07118897e-01  4.12248588e-01 -1.46763938e+00  4.44631055e-01\n",
            " -7.51701243e-02 -6.69471394e-01  5.31357649e-01  6.56606801e-01\n",
            "  1.25281282e+00  7.22669920e-01 -3.74302269e-01 -1.74034592e+00\n",
            " -1.05969705e+00  5.32199148e-01 -5.25004409e-01  1.37492652e-01\n",
            " -1.57388314e+00  3.15487639e-01 -9.29034891e-01  1.55194241e-01\n",
            "  1.34396170e+00  2.46612564e-01  1.49982661e+00 -5.28172509e-01\n",
            "  5.07466383e-01  5.20736496e-01  1.59237382e+00 -8.91942961e-01\n",
            "  1.36317145e+00  4.15111835e-01  4.07097876e-01  7.13879592e-01\n",
            " -2.30500184e+00 -1.09302287e+00  7.28363113e-01  5.93547915e-01\n",
            "  2.03141843e+00 -2.57948448e-01 -5.67126190e-01 -2.05547615e+00\n",
            " -5.12666191e-01 -1.36877085e+00 -2.84086204e-01  3.22009170e-01\n",
            "  5.45101208e-01 -3.55789609e-01 -1.57805832e+00  1.33343858e+00\n",
            " -1.47210157e+00  3.95766745e-02  2.07231029e-03 -2.02134572e+00\n",
            "  9.25422849e-01 -6.45873317e-01  2.95218445e+00  2.50254076e+00\n",
            " -3.28183559e-01  1.57961186e+00 -7.57519015e-02 -1.01938176e-01\n",
            "  7.82214504e-01 -1.75558582e+00 -3.42181053e-01  5.72281438e-01\n",
            " -9.97633477e-01  2.94690861e-01  7.75728803e-01 -3.26008337e-01\n",
            " -4.19276244e-01  2.51556755e-01  1.01183104e+00  1.18718836e+00\n",
            " -4.21204095e-01 -2.03456259e-01 -6.21933017e-01  1.60215037e+00\n",
            " -1.79944878e-01  6.78572208e-01  6.11630414e-01 -2.18048060e+00\n",
            " -1.09949169e+00 -5.12371535e-01  9.32798768e-01 -2.35723863e-01\n",
            "  1.12190172e+00  1.05345770e+00 -1.87571498e+00 -8.98750289e-01\n",
            " -2.01386580e+00  7.70545190e-01  4.97283608e-01  5.38489860e-01\n",
            " -1.79097230e-02  1.10788285e+00  2.28285418e+00  2.62492885e-01\n",
            "  1.66886515e+00 -4.53187318e-02 -4.77350702e-01  3.43487642e-01\n",
            " -5.87176741e-01  6.21632150e-01  2.31483054e+00 -1.46898328e+00\n",
            " -8.44903153e-02 -4.53441478e-01  5.50190757e-01  8.29144305e-01\n",
            "  5.26483829e-01 -7.98884843e-01 -1.14352420e+00  3.17785900e-01\n",
            "  1.70280376e+00 -9.17135049e-01  2.26183995e-01 -1.48482017e+00\n",
            " -9.62642381e-02 -1.54045547e+00 -1.34119644e-01 -5.86285667e-01\n",
            " -1.30976878e+00 -4.23626814e-01  9.73553351e-01  5.54517476e-01\n",
            " -1.33107698e+00 -2.21386384e-01 -8.42279688e-01  9.55874311e-01\n",
            " -4.33449213e-01 -8.84901505e-01 -5.43955737e-01 -3.94559551e-01\n",
            "  2.84739344e-01 -3.78175666e-01 -5.58023509e-01 -4.25789998e-01\n",
            " -9.24109254e-01 -3.24376548e-01  3.44887781e-01  4.34795123e-01\n",
            "  1.15421601e+00 -6.78814400e-01 -1.01516597e+00 -5.49382713e-01\n",
            "  6.95304261e-01  3.35107695e-01  9.65369188e-01 -1.88047614e+00\n",
            "  1.24790241e+00  1.87249016e-01  1.14594749e+00 -6.23775671e-01\n",
            "  2.89927007e-01 -6.79800145e-01  1.86551376e-01 -4.77336513e-02\n",
            "  1.19141586e+00 -9.70472729e-01  2.14574711e-03 -1.17224226e+00\n",
            " -8.48237573e-01 -3.02985035e-01  1.66682440e+00  2.40094101e+00\n",
            " -3.82763525e-01  8.56066269e-01  5.16989921e-02  6.04303619e-01\n",
            "  1.50466068e+00 -4.45130070e-01 -1.03770804e+00 -1.25739945e+00\n",
            "  2.28226193e+00 -2.18907847e+00  1.08219945e+00 -7.70393699e-01\n",
            "  1.56286848e+00 -6.66911919e-02  1.20833259e+00  8.08161946e-01\n",
            "  6.14964994e-01  1.43459197e+00 -1.12645461e-01  2.56362834e-01\n",
            "  6.60690805e-01 -1.03224796e+00  3.93828748e-02  1.10525422e+00\n",
            " -4.76987409e-01  1.01992055e-01  1.54549050e+00 -1.90643999e+00\n",
            "  6.90901488e-01  1.55869564e+00  3.44145165e-01 -6.65309626e-01\n",
            " -2.02268770e+00  3.41070859e-01 -1.00650654e+00  1.39496004e+00\n",
            " -1.25308752e+00  2.37525867e-01 -8.59493489e-01  4.54252682e-01]\n"
          ]
        }
      ]
    },
    {
      "cell_type": "code",
      "metadata": {
        "id": "oKT4vn4MwyLA",
        "colab": {
          "base_uri": "https://localhost:8080/",
          "height": 1000
        },
        "outputId": "c4444b3c-7e73-43e0-8323-d56abd1403bc"
      },
      "source": [
        "import matplotlib #ploting하는 것과 관련 import하는 방법 1-->package 통째로 import--> mathpotlib (pakcage 이름). pyplot(내부 폴더). hist(폴더 이름)\n",
        "matplotlib.pyplot.hist(n, bins=1000) \n",
        "#그 폴더 그리고 hist라는 function-->히스토그램을 만들어줌 x축은 숫자 y축은 갯수--> 칸이 되어 있는데 이 range에서 갯수가 몇개인가?\n",
        "#-->정규분포 형태를 보여줌\n",
        "#bins는 칸의 갯수--> 클수록 더 정규분포에 가까워짐"
      ],
      "execution_count": 14,
      "outputs": [
        {
          "output_type": "execute_result",
          "data": {
            "text/plain": [
              "(array([1., 0., 0., 0., 0., 0., 0., 0., 0., 0., 0., 0., 0., 0., 0., 0., 0.,\n",
              "        0., 0., 0., 0., 0., 0., 0., 0., 0., 0., 0., 0., 0., 0., 0., 0., 0.,\n",
              "        0., 0., 0., 1., 0., 0., 0., 0., 0., 0., 1., 0., 0., 0., 0., 0., 0.,\n",
              "        0., 0., 0., 0., 0., 0., 0., 0., 0., 0., 0., 1., 0., 0., 0., 1., 0.,\n",
              "        0., 0., 0., 0., 0., 0., 0., 0., 0., 0., 0., 0., 0., 0., 0., 0., 0.,\n",
              "        0., 0., 0., 0., 0., 0., 0., 0., 0., 0., 0., 0., 0., 0., 0., 0., 0.,\n",
              "        0., 0., 0., 0., 0., 0., 0., 0., 0., 0., 0., 0., 0., 0., 0., 0., 1.,\n",
              "        0., 0., 0., 0., 0., 0., 0., 0., 0., 0., 0., 0., 0., 0., 0., 0., 0.,\n",
              "        0., 0., 0., 0., 0., 0., 0., 1., 0., 0., 0., 0., 0., 1., 0., 0., 0.,\n",
              "        0., 0., 0., 0., 0., 1., 0., 1., 0., 0., 0., 1., 1., 0., 0., 0., 0.,\n",
              "        0., 0., 0., 0., 0., 0., 0., 0., 0., 0., 0., 0., 1., 1., 0., 0., 0.,\n",
              "        0., 1., 0., 0., 0., 0., 0., 1., 0., 0., 0., 1., 0., 0., 1., 0., 0.,\n",
              "        0., 1., 5., 2., 0., 1., 0., 0., 0., 0., 0., 0., 0., 0., 0., 0., 1.,\n",
              "        0., 1., 0., 0., 0., 2., 1., 0., 0., 1., 1., 0., 0., 0., 1., 1., 0.,\n",
              "        0., 0., 1., 0., 1., 0., 1., 1., 3., 0., 0., 0., 0., 1., 0., 0., 1.,\n",
              "        0., 0., 0., 0., 1., 2., 0., 0., 1., 0., 0., 0., 0., 0., 1., 2., 1.,\n",
              "        1., 1., 2., 1., 2., 2., 2., 0., 2., 1., 1., 1., 0., 3., 2., 0., 1.,\n",
              "        0., 2., 1., 2., 1., 0., 4., 0., 0., 0., 0., 2., 2., 0., 0., 1., 1.,\n",
              "        3., 0., 0., 1., 1., 0., 0., 1., 0., 3., 1., 2., 2., 3., 2., 1., 1.,\n",
              "        0., 0., 2., 0., 2., 1., 3., 0., 1., 1., 2., 0., 0., 1., 0., 2., 4.,\n",
              "        3., 0., 2., 1., 0., 4., 0., 2., 3., 2., 3., 1., 3., 5., 1., 1., 2.,\n",
              "        1., 2., 1., 2., 1., 1., 2., 4., 3., 2., 0., 4., 6., 1., 1., 1., 0.,\n",
              "        2., 1., 2., 0., 2., 2., 2., 0., 3., 3., 0., 2., 0., 2., 1., 0., 0.,\n",
              "        1., 4., 3., 4., 0., 1., 0., 2., 1., 2., 3., 2., 2., 5., 2., 1., 1.,\n",
              "        2., 3., 1., 1., 1., 4., 2., 1., 2., 2., 1., 3., 4., 3., 5., 2., 5.,\n",
              "        5., 1., 1., 3., 8., 2., 0., 1., 3., 3., 1., 2., 5., 1., 1., 0., 5.,\n",
              "        3., 2., 2., 4., 0., 4., 0., 2., 1., 7., 2., 0., 5., 3., 2., 1., 3.,\n",
              "        2., 3., 3., 1., 4., 4., 2., 5., 0., 1., 5., 2., 0., 4., 2., 2., 4.,\n",
              "        0., 2., 3., 2., 1., 2., 6., 1., 1., 2., 2., 6., 2., 1., 2., 3., 1.,\n",
              "        2., 1., 4., 4., 1., 4., 4., 2., 5., 0., 4., 4., 2., 3., 2., 2., 2.,\n",
              "        2., 2., 1., 3., 1., 3., 0., 1., 2., 1., 3., 1., 6., 1., 4., 5., 2.,\n",
              "        2., 3., 1., 2., 2., 5., 3., 3., 4., 3., 1., 3., 2., 1., 2., 5., 0.,\n",
              "        3., 6., 5., 2., 5., 3., 4., 0., 0., 3., 1., 1., 2., 2., 4., 2., 6.,\n",
              "        3., 3., 3., 3., 2., 1., 2., 2., 0., 2., 4., 6., 3., 3., 7., 4., 2.,\n",
              "        7., 3., 3., 4., 4., 2., 3., 2., 2., 5., 2., 1., 2., 3., 1., 1., 2.,\n",
              "        0., 1., 2., 2., 3., 2., 3., 1., 4., 1., 3., 1., 1., 1., 2., 4., 2.,\n",
              "        3., 0., 0., 4., 2., 2., 3., 1., 4., 2., 3., 1., 1., 3., 1., 1., 3.,\n",
              "        3., 0., 3., 2., 3., 1., 2., 2., 1., 5., 1., 1., 2., 1., 1., 4., 3.,\n",
              "        2., 1., 0., 2., 1., 2., 2., 0., 2., 0., 0., 3., 3., 1., 2., 3., 1.,\n",
              "        2., 2., 2., 1., 1., 0., 2., 3., 0., 1., 1., 1., 1., 2., 1., 1., 1.,\n",
              "        2., 0., 2., 2., 0., 1., 0., 1., 4., 0., 1., 1., 2., 3., 1., 3., 1.,\n",
              "        1., 1., 0., 1., 1., 0., 0., 0., 2., 3., 1., 0., 0., 1., 3., 1., 0.,\n",
              "        0., 1., 1., 2., 1., 0., 0., 2., 1., 1., 1., 2., 3., 0., 1., 0., 1.,\n",
              "        0., 1., 1., 1., 1., 1., 0., 1., 4., 0., 1., 0., 0., 1., 0., 0., 0.,\n",
              "        1., 0., 0., 2., 2., 0., 1., 1., 1., 1., 2., 0., 0., 0., 0., 1., 0.,\n",
              "        0., 0., 0., 0., 0., 0., 0., 0., 1., 0., 0., 1., 0., 1., 1., 0., 0.,\n",
              "        0., 0., 0., 0., 0., 0., 0., 0., 0., 0., 1., 2., 0., 0., 0., 1., 2.,\n",
              "        1., 0., 1., 0., 0., 1., 1., 0., 0., 0., 0., 0., 0., 1., 1., 0., 0.,\n",
              "        1., 1., 1., 1., 1., 0., 0., 1., 0., 1., 0., 0., 2., 0., 0., 1., 1.,\n",
              "        1., 0., 0., 0., 0., 0., 0., 0., 0., 0., 0., 0., 1., 0., 0., 0., 0.,\n",
              "        1., 1., 0., 0., 0., 0., 0., 0., 0., 0., 1., 1., 0., 0., 0., 0., 0.,\n",
              "        0., 0., 1., 0., 1., 0., 0., 0., 0., 0., 0., 0., 0., 0., 0., 0., 0.,\n",
              "        0., 0., 0., 0., 0., 0., 0., 0., 0., 0., 0., 0., 0., 0., 0., 0., 0.,\n",
              "        0., 0., 0., 0., 0., 0., 0., 0., 0., 2., 0., 0., 0., 0., 0., 0., 0.,\n",
              "        0., 0., 0., 0., 0., 0., 0., 1., 0., 0., 0., 0., 0., 0., 0., 0., 0.,\n",
              "        0., 0., 1., 0., 1., 0., 0., 0., 0., 0., 0., 0., 0., 0., 0., 0., 0.,\n",
              "        0., 0., 0., 0., 0., 0., 0., 0., 0., 0., 0., 0., 0., 0., 0., 0., 0.,\n",
              "        0., 0., 0., 0., 0., 0., 0., 0., 0., 0., 0., 0., 0., 0., 0., 0., 0.,\n",
              "        0., 0., 0., 0., 0., 0., 0., 0., 0., 0., 0., 0., 0., 1.]),\n",
              " array([-3.44793592, -3.44101918, -3.43410244, ...,  3.45497291,\n",
              "         3.46188965,  3.46880639]),\n",
              " <a list of 1000 Patch objects>)"
            ]
          },
          "metadata": {},
          "execution_count": 14
        },
        {
          "output_type": "display_data",
          "data": {
            "image/png": "[encoded data removed]",
            "text/plain": [
              "<Figure size 432x288 with 1 Axes>"
            ]
          },
          "metadata": {
            "needs_background": "light"
          }
        }
      ]
    },
    {
      "cell_type": "code",
      "metadata": {
        "colab": {
          "base_uri": "https://localhost:8080/",
          "height": 350
        },
        "id": "zQJ4LnbA-Hvz",
        "outputId": "bec7eeff-8cae-4c3d-f090-eaf78cdb5fa9"
      },
      "source": [
        "import matplotlib.pyplot  #ploting하는 것과 관련 import하는 방법 2\n",
        "matplotlib.pyplot.hist(n)"
      ],
      "execution_count": null,
      "outputs": [
        {
          "output_type": "execute_result",
          "data": {
            "text/plain": [
              "(array([ 4.,  4.,  4.,  8., 19., 21., 16., 13.,  6.,  5.]),\n",
              " array([-2.54804234, -2.0585933 , -1.56914426, -1.07969522, -0.59024618,\n",
              "        -0.10079714,  0.3886519 ,  0.87810094,  1.36754998,  1.85699902,\n",
              "         2.34644806]),\n",
              " <a list of 10 Patch objects>)"
            ]
          },
          "metadata": {},
          "execution_count": 4
        },
        {
          "output_type": "display_data",
          "data": {
            "image/png": "[encoded data removed]",
            "text/plain": [
              "<Figure size 432x288 with 1 Axes>"
            ]
          },
          "metadata": {
            "needs_background": "light"
          }
        }
      ]
    },
    {
      "cell_type": "code",
      "metadata": {
        "id": "AWU6awi53c07",
        "colab": {
          "base_uri": "https://localhost:8080/",
          "height": 350
        },
        "outputId": "9b49fb47-6bac-4887-8815-e5ed130f6c56"
      },
      "source": [
        "import matplotlib.pyplot as plt  #ploting하는 것과 관련 import하는 방법 3 -->matplotlib.pyplot를 plt로 설정\n",
        "plt.hist(n)"
      ],
      "execution_count": null,
      "outputs": [
        {
          "output_type": "execute_result",
          "data": {
            "text/plain": [
              "(array([ 4.,  4.,  4.,  8., 19., 21., 16., 13.,  6.,  5.]),\n",
              " array([-2.54804234, -2.0585933 , -1.56914426, -1.07969522, -0.59024618,\n",
              "        -0.10079714,  0.3886519 ,  0.87810094,  1.36754998,  1.85699902,\n",
              "         2.34644806]),\n",
              " <a list of 10 Patch objects>)"
            ]
          },
          "metadata": {},
          "execution_count": 5
        },
        {
          "output_type": "display_data",
          "data": {
            "image/png": "[encoded data removed]",
            "text/plain": [
              "<Figure size 432x288 with 1 Axes>"
            ]
          },
          "metadata": {
            "needs_background": "light"
          }
        }
      ]
    },
    {
      "cell_type": "code",
      "metadata": {
        "colab": {
          "base_uri": "https://localhost:8080/",
          "height": 350
        },
        "id": "moIjn3Kv-Hqy",
        "outputId": "4b1e3880-1576-4b63-b4d0-192704221a8d"
      },
      "source": [
        "from matplotlib import pyplot  #ploting하는 것과 관련 import하는 방법 4--> from으로 상위개념을 불러오고 import로 하위 폴더 불러옴\n",
        "pyplot.hist(n) #-->이렇게 하면 앞에 mathplotlib 안써도 됨"
      ],
      "execution_count": null,
      "outputs": [
        {
          "output_type": "execute_result",
          "data": {
            "text/plain": [
              "(array([ 3.,  4.,  9., 11., 26., 19., 16., 10.,  1.,  1.]),\n",
              " array([-2.51307585, -1.99199295, -1.47091005, -0.94982715, -0.42874425,\n",
              "         0.09233865,  0.61342155,  1.13450445,  1.65558734,  2.17667024,\n",
              "         2.69775314]),\n",
              " <a list of 10 Patch objects>)"
            ]
          },
          "metadata": {},
          "execution_count": 11
        },
        {
          "output_type": "display_data",
          "data": {
            "image/png": "[encoded data removed]",
            "text/plain": [
              "<Figure size 432x288 with 1 Axes>"
            ]
          },
          "metadata": {
            "needs_background": "light"
          }
        }
      ]
    },
    {
      "cell_type": "code",
      "metadata": {
        "colab": {
          "base_uri": "https://localhost:8080/",
          "height": 350
        },
        "id": "ORo259i7_Uqi",
        "outputId": "8faa9ebd-66ff-4f86-e588-f114023e649d"
      },
      "source": [
        "from matplotlib.pyplot import hist  #ploting하는 것과 관련 import하는 방법 5-->from으로 matplotlib.pyplot 불러오고 import로 함수만 불러옴\n",
        "hist(n) #함수만 불러와도 됨"
      ],
      "execution_count": null,
      "outputs": [
        {
          "output_type": "execute_result",
          "data": {
            "text/plain": [
              "(array([ 3.,  4.,  9., 11., 26., 19., 16., 10.,  1.,  1.]),\n",
              " array([-2.51307585, -1.99199295, -1.47091005, -0.94982715, -0.42874425,\n",
              "         0.09233865,  0.61342155,  1.13450445,  1.65558734,  2.17667024,\n",
              "         2.69775314]),\n",
              " <a list of 10 Patch objects>)"
            ]
          },
          "metadata": {},
          "execution_count": 14
        },
        {
          "output_type": "display_data",
          "data": {
            "image/png": "[encoded data removed]",
            "text/plain": [
              "<Figure size 432x288 with 1 Axes>"
            ]
          },
          "metadata": {
            "needs_background": "light"
          }
        }
      ]
    }
  ]
}