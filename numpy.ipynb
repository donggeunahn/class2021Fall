{
  "nbformat": 4,
  "nbformat_minor": 0,
  "metadata": {
    "kernelspec": {
      "display_name": "Python 3",
      "language": "python",
      "name": "python3"
    },
    "language_info": {
      "codemirror_mode": {
        "name": "ipython",
        "version": 3
      },
      "file_extension": ".py",
      "mimetype": "text/x-python",
      "name": "python",
      "nbconvert_exporter": "python",
      "pygments_lexer": "ipython3",
      "version": "3.7.1"
    },
    "colab": {
      "name": "numpy.ipynb",
      "provenance": [],
      "include_colab_link": true
    }
  },
  "cells": [
    {
      "cell_type": "markdown",
      "metadata": {
        "id": "view-in-github",
        "colab_type": "text"
      },
      "source": [
        "<a href=\"https://colab.research.google.com/github/donggeunahn/class2021fall/blob/main/numpy.ipynb\" target=\"_parent\"><img src=\"https://colab.research.google.com/assets/colab-badge.svg\" alt=\"Open In Colab\"/></a>"
      ]
    },
    {
      "cell_type": "markdown",
      "metadata": {
        "id": "JcCdLoe_4bY7"
      },
      "source": [
        "### create nd arrays (≈matrices) -->행렬"
      ]
    },
    {
      "cell_type": "markdown",
      "metadata": {
        "id": "r_OjGz4ym0Jk"
      },
      "source": [
        "n dimensional arrays라고 할때는 nxmxp ...\n",
        "\n",
        "ex) 2by3by4by5 -->4dimensional array\n",
        "행렬이라고 하면 2d vector는 1d"
      ]
    },
    {
      "cell_type": "code",
      "metadata": {
        "id": "5ap7xyofShBB"
      },
      "source": [
        "import numpy as np #numpy를 np라고 써서 편리함"
      ],
      "execution_count": 2,
      "outputs": []
    },
    {
      "cell_type": "code",
      "metadata": {
        "id": "CSlUusNtn_f4"
      },
      "source": [
        ""
      ],
      "execution_count": null,
      "outputs": []
    },
    {
      "cell_type": "code",
      "metadata": {
        "id": "2rqpSPZCShBC",
        "colab": {
          "base_uri": "https://localhost:8080/"
        },
        "outputId": "b8a6b41c-17ba-48b8-9ecb-abf83cc7a466"
      },
      "source": [
        "#array 만들때\n",
        "#[[1,2,3,], [4,5,6]] -->2d array-->괄호 갯수로 생각\n",
        "\n",
        "\n",
        "\n",
        "x = np.array([1,2,3]) #array 만들어라\n",
        "print(x)\n",
        "print(type(x))\n",
        "print(x.shape) #결과 3,-->1dimension 3개짜리 벡터라는 뜻"
      ],
      "execution_count": 3,
      "outputs": [
        {
          "output_type": "stream",
          "name": "stdout",
          "text": [
            "[1 2 3]\n",
            "<class 'numpy.ndarray'>\n",
            "(3,)\n"
          ]
        }
      ]
    },
    {
      "cell_type": "code",
      "metadata": {
        "id": "qcm9dLmQoBpv",
        "outputId": "c2646f7e-cc6c-40bb-ea2f-8dec7bc0fc96",
        "colab": {
          "base_uri": "https://localhost:8080/"
        }
      },
      "source": [
        "x = np.array([[1,2,3,], [4,5,6]]) #array 만들어라\n",
        "print(x)\n",
        "print(type(x))\n",
        "print(x.shape) #결과 2,3-->2dimension 첫번째 dimension에 2개 두번째 dimension에 3개-->제일 바깥 괄호 속에 2개 그 다음 괄호에는 3개\n"
      ],
      "execution_count": 4,
      "outputs": [
        {
          "output_type": "stream",
          "name": "stdout",
          "text": [
            "[[1 2 3]\n",
            " [4 5 6]]\n",
            "<class 'numpy.ndarray'>\n",
            "(2, 3)\n"
          ]
        }
      ]
    },
    {
      "cell_type": "code",
      "metadata": {
        "id": "VsVTSxvwog4P",
        "outputId": "a5d0a0b5-19c1-4016-87e8-f9e76ba7c86c",
        "colab": {
          "base_uri": "https://localhost:8080/"
        }
      },
      "source": [
        "x = np.array([[[1,2,3,], [4,5,6]],[[7,8,9,], [10,11,12]]]) #array 만들어라\n",
        "print(x)\n",
        "print(type(x))\n",
        "print(x.shape) #결과 2,2,3-->첫번째 dimension에 2개 두번째 dimension에 2개-셋번째 dimension에 3개\n",
        "#->제일 바깥 괄호 속에 2개 그 다음 괄호에는 2개 제일 안쪽 괄호 3개\n",
        "#-->3d array"
      ],
      "execution_count": 6,
      "outputs": [
        {
          "output_type": "stream",
          "name": "stdout",
          "text": [
            "[[[ 1  2  3]\n",
            "  [ 4  5  6]]\n",
            "\n",
            " [[ 7  8  9]\n",
            "  [10 11 12]]]\n",
            "<class 'numpy.ndarray'>\n",
            "(2, 2, 3)\n"
          ]
        }
      ]
    },
    {
      "cell_type": "code",
      "metadata": {
        "id": "EjC88C75ShBC",
        "colab": {
          "base_uri": "https://localhost:8080/"
        },
        "outputId": "2c72f55f-c3f9-4e6a-c26b-f3e209a295e3"
      },
      "source": [
        "x = np.arange(0,10,2) # 하나의 범위를 만들어줌-->0부터 10까지인데(10 제외) 2만큼 증가해서 10이 되기전에 stop -->10 포함하지 x-->range X\n",
        "print(x)\n",
        "print(type(x))\n",
        "print(x.shape)#-->결과 5,--> 5개짜리 벡터"
      ],
      "execution_count": null,
      "outputs": [
        {
          "output_type": "stream",
          "name": "stdout",
          "text": [
            "[0 2 4 6 8]\n",
            "<class 'numpy.ndarray'>\n",
            "(5,)\n"
          ]
        }
      ]
    },
    {
      "cell_type": "code",
      "metadata": {
        "id": "-MwkCEjTShBC",
        "colab": {
          "base_uri": "https://localhost:8080/"
        },
        "outputId": "11427674-886c-4f82-ca48-a1465f53223e"
      },
      "source": [
        "x = np.linspace(0,10,6) #linear space-->0에서 10까지(10포함) 총 6개의 숫자를 등간격으로 만들어서\n",
        "print(x)\n",
        "print(type(x))\n",
        "print(x.shape)"
      ],
      "execution_count": null,
      "outputs": [
        {
          "output_type": "stream",
          "name": "stdout",
          "text": [
            "[ 0.  2.  4.  6.  8. 10.]\n",
            "<class 'numpy.ndarray'>\n",
            "(6,)\n"
          ]
        }
      ]
    },
    {
      "cell_type": "code",
      "metadata": {
        "id": "tjk79SQ27fNv",
        "colab": {
          "base_uri": "https://localhost:8080/"
        },
        "outputId": "3ff3368b-6bb1-4664-933e-8504613780b1"
      },
      "source": [
        "x = np.array([[1,2,3], [4,5,6]])\n",
        "print(x)\n",
        "print(type(x))\n",
        "print(x.shape)"
      ],
      "execution_count": null,
      "outputs": [
        {
          "output_type": "stream",
          "name": "stdout",
          "text": [
            "[[1 2 3]\n",
            " [4 5 6]]\n",
            "<class 'numpy.ndarray'>\n",
            "(2, 3)\n"
          ]
        }
      ]
    },
    {
      "cell_type": "code",
      "metadata": {
        "id": "C1ogg6iZ7yir",
        "colab": {
          "base_uri": "https://localhost:8080/"
        },
        "outputId": "baf27f4e-10a7-40bb-82f4-bf470d8de90c"
      },
      "source": [
        "x = np.array([[[1,2,3], [4,5,6]], [[7,8,9], [10,11,12]]])\n",
        "print(x)\n",
        "print(type(x))\n",
        "print(x.shape)"
      ],
      "execution_count": null,
      "outputs": [
        {
          "output_type": "stream",
          "name": "stdout",
          "text": [
            "[[[ 1  2  3]\n",
            "  [ 4  5  6]]\n",
            "\n",
            " [[ 7  8  9]\n",
            "  [10 11 12]]]\n",
            "<class 'numpy.ndarray'>\n",
            "(2, 2, 3)\n"
          ]
        }
      ]
    },
    {
      "cell_type": "code",
      "metadata": {
        "id": "efgeNHtD8ZlT",
        "colab": {
          "base_uri": "https://localhost:8080/"
        },
        "outputId": "047fb9dd-8c90-4dbf-9f12-35123bed1052"
      },
      "source": [
        "x = np.ones([2, 2, 3])#ones 1로 nxpxm array를 만드는 것--> 여기서는 2x2x3 array를 만드는데 -->모든 성분은 1-->이 array를 만들라는 말 x\n",
        "print(x)\n",
        "print(type(x))\n",
        "print(x.shape)"
      ],
      "execution_count": null,
      "outputs": [
        {
          "output_type": "stream",
          "name": "stdout",
          "text": [
            "[[[1. 1. 1.]\n",
            "  [1. 1. 1.]]\n",
            "\n",
            " [[1. 1. 1.]\n",
            "  [1. 1. 1.]]]\n",
            "<class 'numpy.ndarray'>\n",
            "(2, 2, 3)\n"
          ]
        }
      ]
    },
    {
      "cell_type": "code",
      "metadata": {
        "id": "b_F-ccY08zzl",
        "colab": {
          "base_uri": "https://localhost:8080/"
        },
        "outputId": "d56dd759-bbd1-48d5-d208-4a2084fe1cec"
      },
      "source": [
        "x = np.zeros([2, 2, 3]) #zeros-->ones와 비슷한데 구성성분 0\n",
        "print(x)\n",
        "print(type(x))\n",
        "print(x.shape)\n",
        "x.reshape(3,2,2)"
      ],
      "execution_count": null,
      "outputs": [
        {
          "output_type": "stream",
          "name": "stdout",
          "text": [
            "[[[0. 0. 0.]\n",
            "  [0. 0. 0.]]\n",
            "\n",
            " [[0. 0. 0.]\n",
            "  [0. 0. 0.]]]\n",
            "<class 'numpy.ndarray'>\n",
            "(2, 2, 3)\n"
          ]
        },
        {
          "output_type": "execute_result",
          "data": {
            "text/plain": [
              "array([[[0., 0.],\n",
              "        [0., 0.]],\n",
              "\n",
              "       [[0., 0.],\n",
              "        [0., 0.]],\n",
              "\n",
              "       [[0., 0.],\n",
              "        [0., 0.]]])"
            ]
          },
          "metadata": {},
          "execution_count": 27
        }
      ]
    },
    {
      "cell_type": "markdown",
      "metadata": {
        "id": "0hQuDJ5g9gpE"
      },
      "source": [
        "### create random numbers"
      ]
    },
    {
      "cell_type": "code",
      "metadata": {
        "id": "QRatmkx79otL"
      },
      "source": [
        "import matplotlib.pyplot as plt"
      ],
      "execution_count": 8,
      "outputs": []
    },
    {
      "cell_type": "code",
      "metadata": {
        "id": "z1oOAB6dShBD",
        "colab": {
          "base_uri": "https://localhost:8080/",
          "height": 724
        },
        "outputId": "7110eb15-7383-41de-f669-bf421838afbe"
      },
      "source": [
        "x = np.random.normal(0, 1, 100) #random이라는 폴더 내에 normal이라는 함수 (mean, standard deviation, size)\n",
        "print(x)\n",
        "plt.hist(x, bins=20) #크면 무조건 좋지는 않다 --> 적절한 bin size 중요\n",
        "#e-01-->10에 -1승\n",
        "#이렇게 표시하는 이유는 차지하는 정보의 양이 똑같기 때문이다"
      ],
      "execution_count": 9,
      "outputs": [
        {
          "output_type": "stream",
          "name": "stdout",
          "text": [
            "[ 1.89267317 -1.60526885  0.3605182  -1.69733434  1.85073068 -0.74975329\n",
            "  0.5895935  -0.54890445  0.21123674  0.20609533 -0.38542868 -1.02138741\n",
            "  0.23542273  0.22782862  0.74016715  1.2291312   1.27395568  0.5893677\n",
            "  0.4911891   0.45810164 -0.50477392 -0.36890632 -2.10018304 -0.22712132\n",
            " -1.53505237 -0.81305471  0.57839437  0.95796871 -1.08247474 -0.43884322\n",
            "  0.09523124  0.68445303  0.53937812  1.97446479 -1.89984917 -0.44814621\n",
            "  0.60366405 -1.10854887 -0.29192226 -0.89349535 -1.05608921 -0.42422879\n",
            " -0.53524854  0.49529314  0.4292938  -0.75616183  0.76696593  0.85527806\n",
            "  1.17544072 -1.1510668   0.07070732 -1.94001158 -2.79845262 -0.65492198\n",
            " -0.13874394 -1.16371139  0.14931234 -1.1621869   0.18001243 -0.67389942\n",
            "  0.91061119 -0.47916203 -0.27285366  0.58933141 -0.42126239  0.03185542\n",
            "  0.86189571  1.41136514 -0.01418134  0.8330683  -0.17366018  0.24074998\n",
            "  1.85140143 -0.74520396 -0.52898261  0.75561165  0.97118721  0.71710205\n",
            "  1.01079707  2.51238132  0.13013814  0.6275465  -0.03523363  1.30715104\n",
            " -0.74499357  0.29734272 -1.33835358  1.11673044  1.07353651 -0.9483957\n",
            " -0.24105563  1.00060972  1.09828894 -1.89781254  0.20921199  0.49323706\n",
            "  1.19124508  0.66070077  0.26637035 -0.32407529]\n"
          ]
        },
        {
          "output_type": "execute_result",
          "data": {
            "text/plain": [
              "(array([ 1.,  0.,  1.,  3.,  3.,  1.,  8.,  6., 11.,  8.,  6., 12., 12.,\n",
              "        10.,  8.,  5.,  0.,  4.,  0.,  1.]),\n",
              " array([-2.79845262, -2.53291092, -2.26736922, -2.00182753, -1.73628583,\n",
              "        -1.47074413, -1.20520244, -0.93966074, -0.67411904, -0.40857735,\n",
              "        -0.14303565,  0.12250605,  0.38804775,  0.65358944,  0.91913114,\n",
              "         1.18467284,  1.45021453,  1.71575623,  1.98129793,  2.24683962,\n",
              "         2.51238132]),\n",
              " <a list of 20 Patch objects>)"
            ]
          },
          "metadata": {},
          "execution_count": 9
        },
        {
          "output_type": "display_data",
          "data": {
            "image/png": "[encoded data removed]",
            "text/plain": [
              "<Figure size 432x288 with 1 Axes>"
            ]
          },
          "metadata": {
            "needs_background": "light"
          }
        }
      ]
    },
    {
      "cell_type": "markdown",
      "metadata": {
        "id": "G0exvwBbShBE"
      },
      "source": [
        "### generate a sine curve"
      ]
    },
    {
      "cell_type": "code",
      "metadata": {
        "id": "HgQmRXzMShBE",
        "colab": {
          "base_uri": "https://localhost:8080/",
          "height": 313
        },
        "outputId": "af44b61b-a090-4591-c18c-558db0f56d7d"
      },
      "source": [
        "theta = np.linspace(0, 2*np.pi, 100)\n",
        "#0에서 2pi까지 100개의 숫자를 만들어라\n",
        "#pi는 numpy안에 저장되어있다 -->np.pi라고 써야함\n",
        "s = np.sin(theta)#numpy,sin에다가 radian 값 넣으면 어떤 값이 나올 것이다.\n",
        "#시험문제 theta 안에들어 있는 벡터가 길이가 어떻게 되는가-->100개\n",
        "plt.plot(theta, s, 'm')\n",
        "#plt안에 plot이라는 함수\n",
        "#theta-->x값 s-->y 값  m-->그래프의 모양\n",
        "#마지막 'o' 'r' 'b', 콜론 등\n",
        "#theta 자체는 백개의 숫자다, 100개의 theta다\n",
        "# 시험문제 이 점들의 갯수-->100개\n",
        "#각도에 해당하는 \n",
        "plt.xlabel ('angle(radian')#-->x축의 label\n",
        "plt.ylabel ('value')#-->y축의 label\n",
        "plt.title('my first sin curve')\n",
        "#어떻게 사인곡선을 만드는지 -->sin 곡선의 입력을 만들기 위해 linspace 사용-->numpy가 필요한 이유-->각도에 대한 sin 출력값으로 s를받음\n",
        "#-->plot이라는 함수를 통해서  x축 theta y축 s m은 모양 \n",
        "#label붙여줄 수 있었다"
      ],
      "execution_count": 22,
      "outputs": [
        {
          "output_type": "execute_result",
          "data": {
            "text/plain": [
              "Text(0.5, 1.0, 'my first sin curve')"
            ]
          },
          "metadata": {},
          "execution_count": 22
        },
        {
          "output_type": "display_data",
          "data": {
            "image/png": "[encoded data removed]",
            "text/plain": [
              "<Figure size 432x288 with 1 Axes>"
            ]
          },
          "metadata": {
            "needs_background": "light"
          }
        }
      ]
    },
    {
      "cell_type": "code",
      "metadata": {
        "id": "WTqXoomZBbBk",
        "colab": {
          "base_uri": "https://localhost:8080/",
          "height": 313
        },
        "outputId": "07f60dc4-51f9-400e-fee6-8cfb8daaa21e"
      },
      "source": [
        "theta2 = np.linspace(0, 2*np.pi, 100) + np.pi/3\n",
        "#첫번째 값 pi/2 제일 끝 값 2pi+pi/2=5/2 pi -->90도 만큼 shift--> 벡터의 길이는  100개\n",
        "# 각도차이를 phase difference-->위상차\n",
        "s2 = np.sin(theta2)\n",
        "plt.plot(theta2, s2, 'b')\n",
        "plt.xlabel('angle(radian)') \n",
        "#-->x축의 label\n",
        "#x축이 시간이 되지않으면 추상적인 하나의 형태에 불과하지 않다. --> 시간 개념을 부여해주는 방법이 다음시간\n",
        "plt.ylabel ('value')\n",
        " #-->y축의 label\n",
        "plt.title('my first sin curve')"
      ],
      "execution_count": 18,
      "outputs": [
        {
          "output_type": "execute_result",
          "data": {
            "text/plain": [
              "Text(0.5, 1.0, 'my first sin curve')"
            ]
          },
          "metadata": {},
          "execution_count": 18
        },
        {
          "output_type": "display_data",
          "data": {
            "image/png": "[encoded data removed]",
            "text/plain": [
              "<Figure size 432x288 with 1 Axes>"
            ]
          },
          "metadata": {
            "needs_background": "light"
          }
        }
      ]
    },
    {
      "cell_type": "code",
      "metadata": {
        "id": "TuH489v9BvQ7",
        "colab": {
          "base_uri": "https://localhost:8080/"
        },
        "outputId": "7a7351b2-78f4-440f-a5c3-f94183463fd0"
      },
      "source": [
        "np.corrcoef(s,s2)\n",
        "\n",
        "#correlation coefficient-->cos(theta) 값이랑 같다\n",
        "#e=2.41915449*10의 -17승-->0에 거의 수렴하는 값이다-->컴퓨터라서 조금의 오차값이 있어서\n",
        "#phase differnece가 90일때만 cos(theta)=0 \n",
        "#60일때는 cos(theta)=0.5"
      ],
      "execution_count": 23,
      "outputs": [
        {
          "output_type": "execute_result",
          "data": {
            "text/plain": [
              "array([[1.        , 0.49629167],\n",
              "       [0.49629167, 1.        ]])"
            ]
          },
          "metadata": {},
          "execution_count": 23
        }
      ]
    }
  ]
}